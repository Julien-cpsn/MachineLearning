{
 "cells": [
  {
   "cell_type": "markdown",
   "source": [
    "Projet\n",
    "===\n",
    "\n",
    "- Johan PLANCHON\n",
    "- Julien CAPOSIENA"
   ],
   "metadata": {
    "collapsed": false
   }
  },
  {
   "cell_type": "markdown",
   "source": [
    "## 1. Collecte de données\n",
    "\n",
    "1) Créer un dossier appelé `images`"
   ],
   "metadata": {
    "collapsed": false
   }
  },
  {
   "cell_type": "code",
   "execution_count": 51,
   "metadata": {
    "collapsed": true
   },
   "outputs": [],
   "source": [
    "\n",
    "import os\n",
    "\n",
    "if not os.path.exists('./images'):\n",
    "    os.mkdir('./images')"
   ]
  },
  {
   "cell_type": "markdown",
   "source": [
    "2) Télécharger les images sous licence ouverte dans le dossier images (minimum 100 images)."
   ],
   "metadata": {
    "collapsed": false
   }
  },
  {
   "cell_type": "code",
   "execution_count": null,
   "outputs": [],
   "source": [
    "!pip install sparqlwrapper"
   ],
   "metadata": {
    "collapsed": false,
    "pycharm": {
     "is_executing": true
    }
   }
  },
  {
   "cell_type": "markdown",
   "source": [
    "On va récupérer 100 langages de programmation et leur logo"
   ],
   "metadata": {
    "collapsed": false
   }
  },
  {
   "cell_type": "code",
   "execution_count": 121,
   "outputs": [],
   "source": [
    "import sys\n",
    "import pandas as pd\n",
    "from SPARQLWrapper import SPARQLWrapper, JSON\n",
    "\n",
    "endpoint_url = \"https://query.wikidata.org/sparql\"\n",
    "\n",
    "query = \"\"\"\n",
    "SELECT DISTINCT ?catBreed ?catBreedLabel ?image {\n",
    "    ?catBreed wdt:P31 wd:Q43577;\n",
    "        wdt:P18 ?image.\n",
    "    SERVICE wikibase:label { bd:serviceParam wikibase:language \"fr,en\". }\n",
    "}\n",
    "LIMIT 100\n",
    "\"\"\"\n",
    "\n",
    "\n",
    "def get_results(endpoint_url, query):\n",
    "    user_agent = \"WDQS-example Python/%s.%s\" % (\n",
    "        sys.version_info[0],\n",
    "        sys.version_info[1],\n",
    "    )\n",
    "    sparql = SPARQLWrapper(endpoint_url, agent=user_agent)\n",
    "    sparql.setQuery(query)\n",
    "    sparql.setReturnFormat(JSON)\n",
    "    return sparql.query().convert()\n",
    "\n",
    "\n",
    "array = []\n",
    "results = get_results(endpoint_url, query)\n",
    "\n",
    "for result in results[\"results\"][\"bindings\"]:\n",
    "    array.append(\n",
    "        (\n",
    "            result[\"catBreedLabel\"][\"value\"],\n",
    "            result[\"image\"][\"value\"],\n",
    "        )\n",
    "    )"
   ],
   "metadata": {
    "collapsed": false
   }
  },
  {
   "cell_type": "code",
   "execution_count": 122,
   "outputs": [
    {
     "data": {
      "text/plain": "              catBreed                                              image\n0       Modern Siamese  http://commons.wikimedia.org/wiki/Special:File...\n1                Lykoi  http://commons.wikimedia.org/wiki/Special:File...\n2              Burmese  http://commons.wikimedia.org/wiki/Special:File...\n3             Balinais  http://commons.wikimedia.org/wiki/Special:File...\n4             Balinais  http://commons.wikimedia.org/wiki/Special:File...\n..                 ...                                                ...\n92           Mau arabe  http://commons.wikimedia.org/wiki/Special:File...\n93  European shorthair  http://commons.wikimedia.org/wiki/Special:File...\n94            Burmilla  http://commons.wikimedia.org/wiki/Special:File...\n95  Oriental shorthair  http://commons.wikimedia.org/wiki/Special:File...\n96            squitten  http://commons.wikimedia.org/wiki/Special:File...\n\n[97 rows x 2 columns]",
      "text/html": "<div>\n<style scoped>\n    .dataframe tbody tr th:only-of-type {\n        vertical-align: middle;\n    }\n\n    .dataframe tbody tr th {\n        vertical-align: top;\n    }\n\n    .dataframe thead th {\n        text-align: right;\n    }\n</style>\n<table border=\"1\" class=\"dataframe\">\n  <thead>\n    <tr style=\"text-align: right;\">\n      <th></th>\n      <th>catBreed</th>\n      <th>image</th>\n    </tr>\n  </thead>\n  <tbody>\n    <tr>\n      <th>0</th>\n      <td>Modern Siamese</td>\n      <td>http://commons.wikimedia.org/wiki/Special:File...</td>\n    </tr>\n    <tr>\n      <th>1</th>\n      <td>Lykoi</td>\n      <td>http://commons.wikimedia.org/wiki/Special:File...</td>\n    </tr>\n    <tr>\n      <th>2</th>\n      <td>Burmese</td>\n      <td>http://commons.wikimedia.org/wiki/Special:File...</td>\n    </tr>\n    <tr>\n      <th>3</th>\n      <td>Balinais</td>\n      <td>http://commons.wikimedia.org/wiki/Special:File...</td>\n    </tr>\n    <tr>\n      <th>4</th>\n      <td>Balinais</td>\n      <td>http://commons.wikimedia.org/wiki/Special:File...</td>\n    </tr>\n    <tr>\n      <th>...</th>\n      <td>...</td>\n      <td>...</td>\n    </tr>\n    <tr>\n      <th>92</th>\n      <td>Mau arabe</td>\n      <td>http://commons.wikimedia.org/wiki/Special:File...</td>\n    </tr>\n    <tr>\n      <th>93</th>\n      <td>European shorthair</td>\n      <td>http://commons.wikimedia.org/wiki/Special:File...</td>\n    </tr>\n    <tr>\n      <th>94</th>\n      <td>Burmilla</td>\n      <td>http://commons.wikimedia.org/wiki/Special:File...</td>\n    </tr>\n    <tr>\n      <th>95</th>\n      <td>Oriental shorthair</td>\n      <td>http://commons.wikimedia.org/wiki/Special:File...</td>\n    </tr>\n    <tr>\n      <th>96</th>\n      <td>squitten</td>\n      <td>http://commons.wikimedia.org/wiki/Special:File...</td>\n    </tr>\n  </tbody>\n</table>\n<p>97 rows × 2 columns</p>\n</div>"
     },
     "execution_count": 122,
     "metadata": {},
     "output_type": "execute_result"
    }
   ],
   "source": [
    "dataframe = pd.DataFrame(array, columns=[\"catBreed\", \"image\"])\n",
    "dataframe = dataframe.astype(\n",
    "    dtype={\"catBreed\": \"<U200\", \"image\": \"<U200\"}\n",
    ")\n",
    "dataframe"
   ],
   "metadata": {
    "collapsed": false
   }
  },
  {
   "cell_type": "markdown",
   "source": [
    "On télécharge les images dans le dossier `images`"
   ],
   "metadata": {
    "collapsed": false
   }
  },
  {
   "cell_type": "code",
   "execution_count": 125,
   "outputs": [],
   "source": [
    "import requests\n",
    "import shutil\n",
    "\n",
    "def download_image(url):\n",
    "    headers = {\"User-Agent\": \"Mozilla/5.0\"}\n",
    "    request = requests.get(url, allow_redirects=True, headers=headers, stream=True)\n",
    "    if request.status_code == 200:\n",
    "        with open('images\\\\' + os.path.basename(url), \"wb\") as image:\n",
    "            request.raw.decode_content = True\n",
    "            shutil.copyfileobj(request.raw, image)\n",
    "    return request.status_code"
   ],
   "metadata": {
    "collapsed": false
   }
  },
  {
   "cell_type": "code",
   "execution_count": 126,
   "outputs": [
    {
     "data": {
      "text/plain": "0     200\n1     200\n2     200\n3     200\n4     200\n     ... \n92    200\n93    200\n94    200\n95    200\n96    200\nName: image, Length: 97, dtype: int64"
     },
     "execution_count": 126,
     "metadata": {},
     "output_type": "execute_result"
    }
   ],
   "source": [
    "dataframe.image.apply(download_image)"
   ],
   "metadata": {
    "collapsed": false
   }
  },
  {
   "cell_type": "markdown",
   "source": [
    "3) On enregistre les métadonnées de chaque image comme la taille de l'image, le format de l'image (.jpeg, .png, etc.), l'orientation de l'image (paysage, portrait, carré, etc.), date de création, modèle d'appareil photo, etc. dans un ou plusieurs fichiers JSON. Vous pouvez utiliser les informations Exif présentes dans les fichiers d'images."
   ],
   "metadata": {
    "collapsed": false
   }
  },
  {
   "cell_type": "code",
   "execution_count": 29,
   "outputs": [
    {
     "data": {
      "text/plain": "                                                     Extension  \\\n%D0%A4%D0%BE%D1%82%D0%BE%20%D0%BA%D1%83%D0%BD%D...  image/jpeg   \n0612%20chartreux%20vitscha%20orsbleus.jpg           image/jpeg   \n8-month-old%20male%20Lykoi.jpg                      image/jpeg   \nAbessinierkater1.jpg                                image/jpeg   \nAbyssinian%20cat.png                                 image/png   \n...                                                        ...   \nTonkinese.gif                                        image/gif   \nToyger%20male%20queenanne.JPG                       image/jpeg   \nTurkse%20angora.jpg                                 image/jpeg   \nTuxedo%20longhair%20cat%20-%20Spanky.jpg            image/jpeg   \nVan%20Cat%201%202015.JPG                            image/jpeg   \n\n                                                       ResolutionUnit  \\\n%D0%A4%D0%BE%D1%82%D0%BE%20%D0%BA%D1%83%D0%BD%D...                2.0   \n0612%20chartreux%20vitscha%20orsbleus.jpg           No ResolutionUnit   \n8-month-old%20male%20Lykoi.jpg                      No ResolutionUnit   \nAbessinierkater1.jpg                                No ResolutionUnit   \nAbyssinian%20cat.png                                No ResolutionUnit   \n...                                                               ...   \nTonkinese.gif                                       No ResolutionUnit   \nToyger%20male%20queenanne.JPG                                     2.0   \nTurkse%20angora.jpg                                               2.0   \nTuxedo%20longhair%20cat%20-%20Spanky.jpg            No ResolutionUnit   \nVan%20Cat%201%202015.JPG                            No ResolutionUnit   \n\n                                                       ExifOffset  \\\n%D0%A4%D0%BE%D1%82%D0%BE%20%D0%BA%D1%83%D0%BD%D...          220.0   \n0612%20chartreux%20vitscha%20orsbleus.jpg           No ExifOffset   \n8-month-old%20male%20Lykoi.jpg                               38.0   \nAbessinierkater1.jpg                                No ExifOffset   \nAbyssinian%20cat.png                                No ExifOffset   \n...                                                           ...   \nTonkinese.gif                                       No ExifOffset   \nToyger%20male%20queenanne.JPG                               260.0   \nTurkse%20angora.jpg                                         288.0   \nTuxedo%20longhair%20cat%20-%20Spanky.jpg            No ExifOffset   \nVan%20Cat%201%202015.JPG                                   2142.0   \n\n                                                                       Make  \\\n%D0%A4%D0%BE%D1%82%D0%BE%20%D0%BA%D1%83%D0%BD%D...                    Canon   \n0612%20chartreux%20vitscha%20orsbleus.jpg                           No Make   \n8-month-old%20male%20Lykoi.jpg                                      No Make   \nAbessinierkater1.jpg                                                No Make   \nAbyssinian%20cat.png                                                No Make   \n...                                                                     ...   \nTonkinese.gif                                                       No Make   \nToyger%20male%20queenanne.JPG                                         Canon   \nTurkse%20angora.jpg                                 CASIO COMPUTER CO.,LTD    \nTuxedo%20longhair%20cat%20-%20Spanky.jpg                            No Make   \nVan%20Cat%201%202015.JPG                                            No Make   \n\n                                                             Model  \\\n%D0%A4%D0%BE%D1%82%D0%BE%20%D0%BA%D1%83%D0%BD%D...   Canon EOS 10D   \n0612%20chartreux%20vitscha%20orsbleus.jpg                 No Model   \n8-month-old%20male%20Lykoi.jpg                            No Model   \nAbessinierkater1.jpg                                      No Model   \nAbyssinian%20cat.png                                      No Model   \n...                                                            ...   \nTonkinese.gif                                             No Model   \nToyger%20male%20queenanne.JPG                       Canon EOS 550D   \nTurkse%20angora.jpg                                        EX-Z750   \nTuxedo%20longhair%20cat%20-%20Spanky.jpg                  No Model   \nVan%20Cat%201%202015.JPG                                  No Model   \n\n                                                                                    Software  \\\n%D0%A4%D0%BE%D1%82%D0%BE%20%D0%BA%D1%83%D0%BD%D...               Adobe Photoshop CS3 Windows   \n0612%20chartreux%20vitscha%20orsbleus.jpg                                        No Software   \n8-month-old%20male%20Lykoi.jpg                                                   No Software   \nAbessinierkater1.jpg                                                             No Software   \nAbyssinian%20cat.png                                                             No Software   \n...                                                                                      ...   \nTonkinese.gif                                                                    No Software   \nToyger%20male%20queenanne.JPG                       Paint Shop Pro Photo 12.00\u0000\u0000\u0000\u0000\u0000\u0000\u0000\u0000\u0000\u0000\u0000\u0000\u0000\u0000   \nTurkse%20angora.jpg                                              Adobe Photoshop CS4 Windows   \nTuxedo%20longhair%20cat%20-%20Spanky.jpg                                         No Software   \nVan%20Cat%201%202015.JPG                                                         No Software   \n\n                                                       Orientation  \\\n%D0%A4%D0%BE%D1%82%D0%BE%20%D0%BA%D1%83%D0%BD%D...             1.0   \n0612%20chartreux%20vitscha%20orsbleus.jpg           No Orientation   \n8-month-old%20male%20Lykoi.jpg                                 1.0   \nAbessinierkater1.jpg                                No Orientation   \nAbyssinian%20cat.png                                No Orientation   \n...                                                            ...   \nTonkinese.gif                                       No Orientation   \nToyger%20male%20queenanne.JPG                                  1.0   \nTurkse%20angora.jpg                                            1.0   \nTuxedo%20longhair%20cat%20-%20Spanky.jpg            No Orientation   \nVan%20Cat%201%202015.JPG                                       1.0   \n\n                                                                DateTime  \\\n%D0%A4%D0%BE%D1%82%D0%BE%20%D0%BA%D1%83%D0%BD%D...   2007:11:23 12:35:11   \n0612%20chartreux%20vitscha%20orsbleus.jpg                    No DateTime   \n8-month-old%20male%20Lykoi.jpg                               No DateTime   \nAbessinierkater1.jpg                                         No DateTime   \nAbyssinian%20cat.png                                         No DateTime   \n...                                                                  ...   \nTonkinese.gif                                                No DateTime   \nToyger%20male%20queenanne.JPG                       2012:03:15 12:41:06\u0000   \nTurkse%20angora.jpg                                  2009:09:14 22:54:16   \nTuxedo%20longhair%20cat%20-%20Spanky.jpg                     No DateTime   \nVan%20Cat%201%202015.JPG                             2015:06:24 00:51:00   \n\n                                                       YCbCrPositioning  \\\n%D0%A4%D0%BE%D1%82%D0%BE%20%D0%BA%D1%83%D0%BD%D...                  1.0   \n0612%20chartreux%20vitscha%20orsbleus.jpg           No YCbCrPositioning   \n8-month-old%20male%20Lykoi.jpg                      No YCbCrPositioning   \nAbessinierkater1.jpg                                No YCbCrPositioning   \nAbyssinian%20cat.png                                No YCbCrPositioning   \n...                                                                 ...   \nTonkinese.gif                                       No YCbCrPositioning   \nToyger%20male%20queenanne.JPG                                       2.0   \nTurkse%20angora.jpg                                                 1.0   \nTuxedo%20longhair%20cat%20-%20Spanky.jpg            No YCbCrPositioning   \nVan%20Cat%201%202015.JPG                            No YCbCrPositioning   \n\n                                                       XResolution  ...  \\\n%D0%A4%D0%BE%D1%82%D0%BE%20%D0%BA%D1%83%D0%BD%D...           180.0  ...   \n0612%20chartreux%20vitscha%20orsbleus.jpg           No XResolution  ...   \n8-month-old%20male%20Lykoi.jpg                      No XResolution  ...   \nAbessinierkater1.jpg                                No XResolution  ...   \nAbyssinian%20cat.png                                No XResolution  ...   \n...                                                            ...  ...   \nTonkinese.gif                                       No XResolution  ...   \nToyger%20male%20queenanne.JPG                                 72.0  ...   \nTurkse%20angora.jpg                                           72.0  ...   \nTuxedo%20longhair%20cat%20-%20Spanky.jpg            No XResolution  ...   \nVan%20Cat%201%202015.JPG                            No XResolution  ...   \n\n                                                       InterColorProfile  \\\n%D0%A4%D0%BE%D1%82%D0%BE%20%D0%BA%D1%83%D0%BD%D...  No InterColorProfile   \n0612%20chartreux%20vitscha%20orsbleus.jpg           No InterColorProfile   \n8-month-old%20male%20Lykoi.jpg                      No InterColorProfile   \nAbessinierkater1.jpg                                No InterColorProfile   \nAbyssinian%20cat.png                                No InterColorProfile   \n...                                                                  ...   \nTonkinese.gif                                       No InterColorProfile   \nToyger%20male%20queenanne.JPG                       No InterColorProfile   \nTurkse%20angora.jpg                                 No InterColorProfile   \nTuxedo%20longhair%20cat%20-%20Spanky.jpg            No InterColorProfile   \nVan%20Cat%201%202015.JPG                            No InterColorProfile   \n\n                                                       XPKeywords  \\\n%D0%A4%D0%BE%D1%82%D0%BE%20%D0%BA%D1%83%D0%BD%D...  No XPKeywords   \n0612%20chartreux%20vitscha%20orsbleus.jpg           No XPKeywords   \n8-month-old%20male%20Lykoi.jpg                      No XPKeywords   \nAbessinierkater1.jpg                                No XPKeywords   \nAbyssinian%20cat.png                                No XPKeywords   \n...                                                           ...   \nTonkinese.gif                                       No XPKeywords   \nToyger%20male%20queenanne.JPG                        l\u0000u\u0000c\u0000k\u0000y\u0000\u0000\u0000   \nTurkse%20angora.jpg                                 No XPKeywords   \nTuxedo%20longhair%20cat%20-%20Spanky.jpg            No XPKeywords   \nVan%20Cat%201%202015.JPG                            No XPKeywords   \n\n                                                       YCbCrCoefficients  \\\n%D0%A4%D0%BE%D1%82%D0%BE%20%D0%BA%D1%83%D0%BD%D...  No YCbCrCoefficients   \n0612%20chartreux%20vitscha%20orsbleus.jpg           No YCbCrCoefficients   \n8-month-old%20male%20Lykoi.jpg                      No YCbCrCoefficients   \nAbessinierkater1.jpg                                No YCbCrCoefficients   \nAbyssinian%20cat.png                                No YCbCrCoefficients   \n...                                                                  ...   \nTonkinese.gif                                       No YCbCrCoefficients   \nToyger%20male%20queenanne.JPG                       No YCbCrCoefficients   \nTurkse%20angora.jpg                                 No YCbCrCoefficients   \nTuxedo%20longhair%20cat%20-%20Spanky.jpg            No YCbCrCoefficients   \nVan%20Cat%201%202015.JPG                            No YCbCrCoefficients   \n\n                                                       WhitePoint  \\\n%D0%A4%D0%BE%D1%82%D0%BE%20%D0%BA%D1%83%D0%BD%D...  No WhitePoint   \n0612%20chartreux%20vitscha%20orsbleus.jpg           No WhitePoint   \n8-month-old%20male%20Lykoi.jpg                      No WhitePoint   \nAbessinierkater1.jpg                                No WhitePoint   \nAbyssinian%20cat.png                                No WhitePoint   \n...                                                           ...   \nTonkinese.gif                                       No WhitePoint   \nToyger%20male%20queenanne.JPG                       No WhitePoint   \nTurkse%20angora.jpg                                 No WhitePoint   \nTuxedo%20longhair%20cat%20-%20Spanky.jpg            No WhitePoint   \nVan%20Cat%201%202015.JPG                            No WhitePoint   \n\n                                                       PrimaryChromaticities  \\\n%D0%A4%D0%BE%D1%82%D0%BE%20%D0%BA%D1%83%D0%BD%D...  No PrimaryChromaticities   \n0612%20chartreux%20vitscha%20orsbleus.jpg           No PrimaryChromaticities   \n8-month-old%20male%20Lykoi.jpg                      No PrimaryChromaticities   \nAbessinierkater1.jpg                                No PrimaryChromaticities   \nAbyssinian%20cat.png                                No PrimaryChromaticities   \n...                                                                      ...   \nTonkinese.gif                                       No PrimaryChromaticities   \nToyger%20male%20queenanne.JPG                       No PrimaryChromaticities   \nTurkse%20angora.jpg                                 No PrimaryChromaticities   \nTuxedo%20longhair%20cat%20-%20Spanky.jpg            No PrimaryChromaticities   \nVan%20Cat%201%202015.JPG                            No PrimaryChromaticities   \n\n                                                       ExposureTime  \\\n%D0%A4%D0%BE%D1%82%D0%BE%20%D0%BA%D1%83%D0%BD%D...  No ExposureTime   \n0612%20chartreux%20vitscha%20orsbleus.jpg           No ExposureTime   \n8-month-old%20male%20Lykoi.jpg                      No ExposureTime   \nAbessinierkater1.jpg                                No ExposureTime   \nAbyssinian%20cat.png                                No ExposureTime   \n...                                                             ...   \nTonkinese.gif                                       No ExposureTime   \nToyger%20male%20queenanne.JPG                       No ExposureTime   \nTurkse%20angora.jpg                                 No ExposureTime   \nTuxedo%20longhair%20cat%20-%20Spanky.jpg            No ExposureTime   \nVan%20Cat%201%202015.JPG                            No ExposureTime   \n\n                                                       SubjectDistanceRange  \\\n%D0%A4%D0%BE%D1%82%D0%BE%20%D0%BA%D1%83%D0%BD%D...  No SubjectDistanceRange   \n0612%20chartreux%20vitscha%20orsbleus.jpg           No SubjectDistanceRange   \n8-month-old%20male%20Lykoi.jpg                      No SubjectDistanceRange   \nAbessinierkater1.jpg                                No SubjectDistanceRange   \nAbyssinian%20cat.png                                No SubjectDistanceRange   \n...                                                                     ...   \nTonkinese.gif                                       No SubjectDistanceRange   \nToyger%20male%20queenanne.JPG                       No SubjectDistanceRange   \nTurkse%20angora.jpg                                 No SubjectDistanceRange   \nTuxedo%20longhair%20cat%20-%20Spanky.jpg            No SubjectDistanceRange   \nVan%20Cat%201%202015.JPG                            No SubjectDistanceRange   \n\n                                                       XMLPacket  \\\n%D0%A4%D0%BE%D1%82%D0%BE%20%D0%BA%D1%83%D0%BD%D...  No XMLPacket   \n0612%20chartreux%20vitscha%20orsbleus.jpg           No XMLPacket   \n8-month-old%20male%20Lykoi.jpg                      No XMLPacket   \nAbessinierkater1.jpg                                No XMLPacket   \nAbyssinian%20cat.png                                No XMLPacket   \n...                                                          ...   \nTonkinese.gif                                       No XMLPacket   \nToyger%20male%20queenanne.JPG                       No XMLPacket   \nTurkse%20angora.jpg                                 No XMLPacket   \nTuxedo%20longhair%20cat%20-%20Spanky.jpg            No XMLPacket   \nVan%20Cat%201%202015.JPG                            No XMLPacket   \n\n                                                       ImageResources  \\\n%D0%A4%D0%BE%D1%82%D0%BE%20%D0%BA%D1%83%D0%BD%D...  No ImageResources   \n0612%20chartreux%20vitscha%20orsbleus.jpg           No ImageResources   \n8-month-old%20male%20Lykoi.jpg                      No ImageResources   \nAbessinierkater1.jpg                                No ImageResources   \nAbyssinian%20cat.png                                No ImageResources   \n...                                                               ...   \nTonkinese.gif                                       No ImageResources   \nToyger%20male%20queenanne.JPG                       No ImageResources   \nTurkse%20angora.jpg                                 No ImageResources   \nTuxedo%20longhair%20cat%20-%20Spanky.jpg            No ImageResources   \nVan%20Cat%201%202015.JPG                            No ImageResources   \n\n                                                       NewSubfileType  \n%D0%A4%D0%BE%D1%82%D0%BE%20%D0%BA%D1%83%D0%BD%D...  No NewSubfileType  \n0612%20chartreux%20vitscha%20orsbleus.jpg           No NewSubfileType  \n8-month-old%20male%20Lykoi.jpg                      No NewSubfileType  \nAbessinierkater1.jpg                                No NewSubfileType  \nAbyssinian%20cat.png                                No NewSubfileType  \n...                                                               ...  \nTonkinese.gif                                       No NewSubfileType  \nToyger%20male%20queenanne.JPG                       No NewSubfileType  \nTurkse%20angora.jpg                                 No NewSubfileType  \nTuxedo%20longhair%20cat%20-%20Spanky.jpg            No NewSubfileType  \nVan%20Cat%201%202015.JPG                            No NewSubfileType  \n\n[97 rows x 48 columns]",
      "text/html": "<div>\n<style scoped>\n    .dataframe tbody tr th:only-of-type {\n        vertical-align: middle;\n    }\n\n    .dataframe tbody tr th {\n        vertical-align: top;\n    }\n\n    .dataframe thead th {\n        text-align: right;\n    }\n</style>\n<table border=\"1\" class=\"dataframe\">\n  <thead>\n    <tr style=\"text-align: right;\">\n      <th></th>\n      <th>Extension</th>\n      <th>ResolutionUnit</th>\n      <th>ExifOffset</th>\n      <th>Make</th>\n      <th>Model</th>\n      <th>Software</th>\n      <th>Orientation</th>\n      <th>DateTime</th>\n      <th>YCbCrPositioning</th>\n      <th>XResolution</th>\n      <th>...</th>\n      <th>InterColorProfile</th>\n      <th>XPKeywords</th>\n      <th>YCbCrCoefficients</th>\n      <th>WhitePoint</th>\n      <th>PrimaryChromaticities</th>\n      <th>ExposureTime</th>\n      <th>SubjectDistanceRange</th>\n      <th>XMLPacket</th>\n      <th>ImageResources</th>\n      <th>NewSubfileType</th>\n    </tr>\n  </thead>\n  <tbody>\n    <tr>\n      <th>%D0%A4%D0%BE%D1%82%D0%BE%20%D0%BA%D1%83%D0%BD%D0%BE%D0%B2.jpg</th>\n      <td>image/jpeg</td>\n      <td>2.0</td>\n      <td>220.0</td>\n      <td>Canon</td>\n      <td>Canon EOS 10D</td>\n      <td>Adobe Photoshop CS3 Windows</td>\n      <td>1.0</td>\n      <td>2007:11:23 12:35:11</td>\n      <td>1.0</td>\n      <td>180.0</td>\n      <td>...</td>\n      <td>No InterColorProfile</td>\n      <td>No XPKeywords</td>\n      <td>No YCbCrCoefficients</td>\n      <td>No WhitePoint</td>\n      <td>No PrimaryChromaticities</td>\n      <td>No ExposureTime</td>\n      <td>No SubjectDistanceRange</td>\n      <td>No XMLPacket</td>\n      <td>No ImageResources</td>\n      <td>No NewSubfileType</td>\n    </tr>\n    <tr>\n      <th>0612%20chartreux%20vitscha%20orsbleus.jpg</th>\n      <td>image/jpeg</td>\n      <td>No ResolutionUnit</td>\n      <td>No ExifOffset</td>\n      <td>No Make</td>\n      <td>No Model</td>\n      <td>No Software</td>\n      <td>No Orientation</td>\n      <td>No DateTime</td>\n      <td>No YCbCrPositioning</td>\n      <td>No XResolution</td>\n      <td>...</td>\n      <td>No InterColorProfile</td>\n      <td>No XPKeywords</td>\n      <td>No YCbCrCoefficients</td>\n      <td>No WhitePoint</td>\n      <td>No PrimaryChromaticities</td>\n      <td>No ExposureTime</td>\n      <td>No SubjectDistanceRange</td>\n      <td>No XMLPacket</td>\n      <td>No ImageResources</td>\n      <td>No NewSubfileType</td>\n    </tr>\n    <tr>\n      <th>8-month-old%20male%20Lykoi.jpg</th>\n      <td>image/jpeg</td>\n      <td>No ResolutionUnit</td>\n      <td>38.0</td>\n      <td>No Make</td>\n      <td>No Model</td>\n      <td>No Software</td>\n      <td>1.0</td>\n      <td>No DateTime</td>\n      <td>No YCbCrPositioning</td>\n      <td>No XResolution</td>\n      <td>...</td>\n      <td>No InterColorProfile</td>\n      <td>No XPKeywords</td>\n      <td>No YCbCrCoefficients</td>\n      <td>No WhitePoint</td>\n      <td>No PrimaryChromaticities</td>\n      <td>No ExposureTime</td>\n      <td>No SubjectDistanceRange</td>\n      <td>No XMLPacket</td>\n      <td>No ImageResources</td>\n      <td>No NewSubfileType</td>\n    </tr>\n    <tr>\n      <th>Abessinierkater1.jpg</th>\n      <td>image/jpeg</td>\n      <td>No ResolutionUnit</td>\n      <td>No ExifOffset</td>\n      <td>No Make</td>\n      <td>No Model</td>\n      <td>No Software</td>\n      <td>No Orientation</td>\n      <td>No DateTime</td>\n      <td>No YCbCrPositioning</td>\n      <td>No XResolution</td>\n      <td>...</td>\n      <td>No InterColorProfile</td>\n      <td>No XPKeywords</td>\n      <td>No YCbCrCoefficients</td>\n      <td>No WhitePoint</td>\n      <td>No PrimaryChromaticities</td>\n      <td>No ExposureTime</td>\n      <td>No SubjectDistanceRange</td>\n      <td>No XMLPacket</td>\n      <td>No ImageResources</td>\n      <td>No NewSubfileType</td>\n    </tr>\n    <tr>\n      <th>Abyssinian%20cat.png</th>\n      <td>image/png</td>\n      <td>No ResolutionUnit</td>\n      <td>No ExifOffset</td>\n      <td>No Make</td>\n      <td>No Model</td>\n      <td>No Software</td>\n      <td>No Orientation</td>\n      <td>No DateTime</td>\n      <td>No YCbCrPositioning</td>\n      <td>No XResolution</td>\n      <td>...</td>\n      <td>No InterColorProfile</td>\n      <td>No XPKeywords</td>\n      <td>No YCbCrCoefficients</td>\n      <td>No WhitePoint</td>\n      <td>No PrimaryChromaticities</td>\n      <td>No ExposureTime</td>\n      <td>No SubjectDistanceRange</td>\n      <td>No XMLPacket</td>\n      <td>No ImageResources</td>\n      <td>No NewSubfileType</td>\n    </tr>\n    <tr>\n      <th>...</th>\n      <td>...</td>\n      <td>...</td>\n      <td>...</td>\n      <td>...</td>\n      <td>...</td>\n      <td>...</td>\n      <td>...</td>\n      <td>...</td>\n      <td>...</td>\n      <td>...</td>\n      <td>...</td>\n      <td>...</td>\n      <td>...</td>\n      <td>...</td>\n      <td>...</td>\n      <td>...</td>\n      <td>...</td>\n      <td>...</td>\n      <td>...</td>\n      <td>...</td>\n      <td>...</td>\n    </tr>\n    <tr>\n      <th>Tonkinese.gif</th>\n      <td>image/gif</td>\n      <td>No ResolutionUnit</td>\n      <td>No ExifOffset</td>\n      <td>No Make</td>\n      <td>No Model</td>\n      <td>No Software</td>\n      <td>No Orientation</td>\n      <td>No DateTime</td>\n      <td>No YCbCrPositioning</td>\n      <td>No XResolution</td>\n      <td>...</td>\n      <td>No InterColorProfile</td>\n      <td>No XPKeywords</td>\n      <td>No YCbCrCoefficients</td>\n      <td>No WhitePoint</td>\n      <td>No PrimaryChromaticities</td>\n      <td>No ExposureTime</td>\n      <td>No SubjectDistanceRange</td>\n      <td>No XMLPacket</td>\n      <td>No ImageResources</td>\n      <td>No NewSubfileType</td>\n    </tr>\n    <tr>\n      <th>Toyger%20male%20queenanne.JPG</th>\n      <td>image/jpeg</td>\n      <td>2.0</td>\n      <td>260.0</td>\n      <td>Canon</td>\n      <td>Canon EOS 550D</td>\n      <td>Paint Shop Pro Photo 12.00\u0000\u0000\u0000\u0000\u0000\u0000\u0000\u0000\u0000\u0000\u0000\u0000\u0000\u0000</td>\n      <td>1.0</td>\n      <td>2012:03:15 12:41:06\u0000</td>\n      <td>2.0</td>\n      <td>72.0</td>\n      <td>...</td>\n      <td>No InterColorProfile</td>\n      <td>l\u0000u\u0000c\u0000k\u0000y\u0000\u0000\u0000</td>\n      <td>No YCbCrCoefficients</td>\n      <td>No WhitePoint</td>\n      <td>No PrimaryChromaticities</td>\n      <td>No ExposureTime</td>\n      <td>No SubjectDistanceRange</td>\n      <td>No XMLPacket</td>\n      <td>No ImageResources</td>\n      <td>No NewSubfileType</td>\n    </tr>\n    <tr>\n      <th>Turkse%20angora.jpg</th>\n      <td>image/jpeg</td>\n      <td>2.0</td>\n      <td>288.0</td>\n      <td>CASIO COMPUTER CO.,LTD</td>\n      <td>EX-Z750</td>\n      <td>Adobe Photoshop CS4 Windows</td>\n      <td>1.0</td>\n      <td>2009:09:14 22:54:16</td>\n      <td>1.0</td>\n      <td>72.0</td>\n      <td>...</td>\n      <td>No InterColorProfile</td>\n      <td>No XPKeywords</td>\n      <td>No YCbCrCoefficients</td>\n      <td>No WhitePoint</td>\n      <td>No PrimaryChromaticities</td>\n      <td>No ExposureTime</td>\n      <td>No SubjectDistanceRange</td>\n      <td>No XMLPacket</td>\n      <td>No ImageResources</td>\n      <td>No NewSubfileType</td>\n    </tr>\n    <tr>\n      <th>Tuxedo%20longhair%20cat%20-%20Spanky.jpg</th>\n      <td>image/jpeg</td>\n      <td>No ResolutionUnit</td>\n      <td>No ExifOffset</td>\n      <td>No Make</td>\n      <td>No Model</td>\n      <td>No Software</td>\n      <td>No Orientation</td>\n      <td>No DateTime</td>\n      <td>No YCbCrPositioning</td>\n      <td>No XResolution</td>\n      <td>...</td>\n      <td>No InterColorProfile</td>\n      <td>No XPKeywords</td>\n      <td>No YCbCrCoefficients</td>\n      <td>No WhitePoint</td>\n      <td>No PrimaryChromaticities</td>\n      <td>No ExposureTime</td>\n      <td>No SubjectDistanceRange</td>\n      <td>No XMLPacket</td>\n      <td>No ImageResources</td>\n      <td>No NewSubfileType</td>\n    </tr>\n    <tr>\n      <th>Van%20Cat%201%202015.JPG</th>\n      <td>image/jpeg</td>\n      <td>No ResolutionUnit</td>\n      <td>2142.0</td>\n      <td>No Make</td>\n      <td>No Model</td>\n      <td>No Software</td>\n      <td>1.0</td>\n      <td>2015:06:24 00:51:00</td>\n      <td>No YCbCrPositioning</td>\n      <td>No XResolution</td>\n      <td>...</td>\n      <td>No InterColorProfile</td>\n      <td>No XPKeywords</td>\n      <td>No YCbCrCoefficients</td>\n      <td>No WhitePoint</td>\n      <td>No PrimaryChromaticities</td>\n      <td>No ExposureTime</td>\n      <td>No SubjectDistanceRange</td>\n      <td>No XMLPacket</td>\n      <td>No ImageResources</td>\n      <td>No NewSubfileType</td>\n    </tr>\n  </tbody>\n</table>\n<p>97 rows × 48 columns</p>\n</div>"
     },
     "execution_count": 29,
     "metadata": {},
     "output_type": "execute_result"
    }
   ],
   "source": [
    "import mimetypes as mt\n",
    "import pandas as pd\n",
    "from PIL import TiffImagePlugin\n",
    "from PIL.ExifTags import TAGS\n",
    "\n",
    "def get_metadata():\n",
    "    metadata = dict()\n",
    "    headers = [\"Extension\"]\n",
    "\n",
    "    for filename in os.listdir('.\\\\images'):\n",
    "        if filename.endswith('.svg'):\n",
    "            continue\n",
    "\n",
    "        image = Image.open('.\\\\images\\\\' + filename)\n",
    "        exif_data = image.getexif()\n",
    "\n",
    "        exif = {}\n",
    "        exif[\"Extension\"] = mt.guess_type('.\\\\images\\\\' + filename)[0]\n",
    "\n",
    "        if exif_data:  # s'il existe des informations EXIF\n",
    "            for tag, value in exif_data.items():\n",
    "                if tag in TAGS:\n",
    "                    if isinstance(value, TiffImagePlugin.IFDRational):\n",
    "                        exif[TAGS[tag]] = float(value)\n",
    "                    elif isinstance(value, tuple):\n",
    "                        exif[TAGS[tag]] = tuple(float(t) if isinstance(t, TiffImagePlugin.IFDRational) else t for t in value)\n",
    "                    elif isinstance(value, bytes):\n",
    "                        exif[TAGS[tag]] = value.decode(errors=\"replace\")\n",
    "                    else:\n",
    "                        exif[TAGS[tag]] = value\n",
    "\n",
    "                    if TAGS[tag] not in headers:\n",
    "                        headers.append(TAGS[tag])\n",
    "\n",
    "        metadata[filename] = exif\n",
    "\n",
    "    return metadata, headers\n",
    "\n",
    "\n",
    "metadata, headers = get_metadata()\n",
    "\n",
    "framed_metadata = pd.DataFrame.from_dict(metadata, orient='index', columns=headers)\n",
    "for data in framed_metadata:\n",
    "    for header in headers:\n",
    "        framed_metadata.loc[framed_metadata[header].isna(), [header]] = \"No \" + header\n",
    "\n",
    "framed_metadata"
   ],
   "metadata": {
    "collapsed": false
   }
  },
  {
   "cell_type": "code",
   "execution_count": 30,
   "outputs": [],
   "source": [
    "with open('metadata.json', 'w') as f:\n",
    "    f.write(framed_metadata.to_json(orient='index'))"
   ],
   "metadata": {
    "collapsed": false
   }
  },
  {
   "cell_type": "markdown",
   "source": [
    "## Étiquetage et annotation\n",
    "\n",
    "Pour cette tâche, vous devez rechercher les sources disposant d'informations supplémentaires comme les balises, les catégories, etc.\n",
    "Premièrement on créé une fonction pour transformer un tuple RGB en couleur humaine (ex (255, 0, 0) -> Red)"
   ],
   "metadata": {
    "collapsed": false
   }
  },
  {
   "cell_type": "code",
   "execution_count": 31,
   "outputs": [],
   "source": [
    "from scipy.spatial import KDTree\n",
    "from webcolors import (\n",
    "    CSS3_HEX_TO_NAMES,\n",
    "    hex_to_rgb,\n",
    ")\n",
    "\n",
    "def convert_rgb_to_names(rgb_tuple):\n",
    "    css3_db = CSS3_HEX_TO_NAMES\n",
    "    names = []\n",
    "    rgb_values = []\n",
    "    for color_hex, color_name in css3_db.items():\n",
    "        names.append(color_name)\n",
    "        rgb_values.append(hex_to_rgb(color_hex))\n",
    "\n",
    "    kdt_db = KDTree(rgb_values)\n",
    "    distance, index = kdt_db.query(rgb_tuple)\n",
    "    return names[index]"
   ],
   "metadata": {
    "collapsed": false
   }
  },
  {
   "cell_type": "markdown",
   "source": [
    "Ensuite on créé une fonction pour récupérer les 2 couleurs les plus présentes dans l'image passée en paramètres"
   ],
   "metadata": {
    "collapsed": false
   }
  },
  {
   "cell_type": "code",
   "execution_count": 32,
   "outputs": [],
   "source": [
    "from PIL import Image\n",
    "import numpy as np\n",
    "import math\n",
    "from sklearn.cluster import KMeans\n",
    "\n",
    "def get_most_seen_colors(file_path):\n",
    "    img_file = Image.open(file_path).convert(\"RGBA\")\n",
    "\n",
    "    nb_colors = 2\n",
    "    clusters = KMeans(n_clusters=nb_colors, n_init=2)\n",
    "\n",
    "    numarray = np.array(img_file.getdata(), np.uint8)\n",
    "    clusters.fit(numarray)\n",
    "\n",
    "    np.arange(0, nb_colors + 1)\n",
    "\n",
    "    most_seen_colors = []\n",
    "    for i in range(nb_colors):\n",
    "        most_seen_colors.append(\n",
    "            (\n",
    "                math.ceil(clusters.cluster_centers_[i][0]),\n",
    "                math.ceil(clusters.cluster_centers_[i][1]),\n",
    "                math.ceil(clusters.cluster_centers_[i][2]),\n",
    "            )\n",
    "        )\n",
    "\n",
    "    return most_seen_colors"
   ],
   "metadata": {
    "collapsed": false
   }
  },
  {
   "cell_type": "markdown",
   "source": [
    "On ajoute les 2 couleurs les plus présentes dans chaque image en tant que tag dans le fichier `metadata.json`"
   ],
   "metadata": {
    "collapsed": false
   }
  },
  {
   "cell_type": "code",
   "execution_count": 33,
   "outputs": [],
   "source": [
    "import json\n",
    "\n",
    "with open('metadata.json', 'r') as metadata_file:\n",
    "    metadata = json.load(metadata_file)\n",
    "\n",
    "    for image in metadata:\n",
    "        most_seen_colors = get_most_seen_colors('images/' + image)\n",
    "\n",
    "        for index, color in enumerate(most_seen_colors):\n",
    "            metadata[image][\"Color\" + str(index + 1)] = convert_rgb_to_names(color)"
   ],
   "metadata": {
    "collapsed": false
   }
  },
  {
   "cell_type": "code",
   "execution_count": 34,
   "outputs": [],
   "source": [
    "with open('metadata.json', 'w') as metadata_file:\n",
    "    json.dump(metadata, metadata_file)"
   ],
   "metadata": {
    "collapsed": false
   }
  },
  {
   "cell_type": "markdown",
   "source": [
    "On ajoute un tag à toutes les images avec l'input utilisateur"
   ],
   "metadata": {
    "collapsed": false
   }
  },
  {
   "cell_type": "code",
   "execution_count": 35,
   "outputs": [],
   "source": [
    "import json\n",
    "\n",
    "with open('metadata.json', 'r') as metadata_file:\n",
    "    metadata = json.load(metadata_file)\n",
    "\n",
    "    tag = input('Ajouter un tag aux images: ')\n",
    "\n",
    "    for image in metadata:\n",
    "        metadata[image][tag] = False\n",
    "\n",
    "with open('metadata.json', 'w') as metadata_file:\n",
    "    json.dump(metadata, metadata_file)\n",
    "    metadata_file.close()"
   ],
   "metadata": {
    "collapsed": false
   }
  },
  {
   "cell_type": "markdown",
   "source": [
    "## Analyses de données\n",
    "\n",
    "On attribue `y` images likées à `i` utilisateurs (sans doublon)"
   ],
   "metadata": {
    "collapsed": false
   }
  },
  {
   "cell_type": "code",
   "execution_count": 2,
   "outputs": [
    {
     "data": {
      "text/plain": "[{'liked_images': ['Cat%200063.JPG',\n   'Gato%20pelo%20curto%20brasileiro.JPG',\n   'Maine%20Coon%20male%20NO%20Sigdalskauen%20Balder.jpg',\n   'Midnight%20%28Bombay%20cat%29.jpg',\n   'Cruel.JPG',\n   'BLH%20Bounty%20Amouge%20%2815640416276%29.jpg',\n   'Cat-MaineCoon-Lucy.png',\n   'Siam%20lilacpoint.jpg',\n   'Manx%20cat%20by%20Karen%20Weaver.jpg',\n   'Egy%20mau.jpg',\n   'Star%20Spangled%20Cat.jpg',\n   'SOMns.jpg',\n   'Jielbeaumadier%20sansha%20rex%20de%20cornouailles%20et%20yanek%20peterbald%20frankfurt%202011.jpeg',\n   'Gato%20Bengal%C3%AD.jpg',\n   'Squitten2.jpg',\n   'ChausieA.jpg',\n   'Noorse-boskat%20wikipedia%201.JPG',\n   '%D0%A4%D0%BE%D1%82%D0%BE%20%D0%BA%D1%83%D0%BD%D0%BE%D0%B2.jpg',\n   'Toyger%20male%20queenanne.JPG',\n   'Colorpoint%20Shorthair.jpg']},\n {'liked_images': ['Tonkinese.gif',\n   'Shadow%20the%20Bombay%20Cat.jpg',\n   '8-month-old%20male%20Lykoi.jpg',\n   'Burmakatze-rot.jpg',\n   'Cat%200063.JPG',\n   'Raffles%20singapura%20cat.jpg',\n   'Egy%20mau.jpg',\n   '8-month-old%20male%20Lykoi.jpg',\n   'Gato%20Bengal%C3%AD.jpg',\n   'Jewelkatz%20Romeo%20Of%20Stalker-Bars.jpg',\n   'Bombay%20Katze%20Ebene%20of%20Blue%20Sinfonie.JPG',\n   'Balinais.jpg',\n   'Cat%200063.JPG',\n   'Raffles%20singapura%20cat.jpg',\n   'Australian%20Mist.jpg',\n   'Abessinierkater1.jpg',\n   'Manx%20cat%20by%20Karen%20Weaver.jpg',\n   'Manx%20cat%20by%20Karen%20Weaver.jpg',\n   'Bombay%20Katze%20Ebene%20of%20Blue%20Sinfonie.JPG',\n   'Chairman%20Meow%20Bao.jpg']},\n {'liked_images': ['Karin%20Maine%20Coon.jpg',\n   'Kurilian%20bobtail.JPG',\n   '%D0%A4%D0%BE%D1%82%D0%BE%20%D0%BA%D1%83%D0%BD%D0%BE%D0%B2.jpg',\n   'Gustav%20chocolate.jpg',\n   'Abyssinian%20cat.png',\n   'Abyssinian%20cat.png',\n   'Maine%20Coon%20kittens%20NO%20Sigdalskauen.jpg',\n   'Purple-scottish-fold.png',\n   'American%20Wirehair%20-%20CFF%20cat%20show%20Heinola%202008-05-04%20IMG%208721.JPG',\n   'Egy%20mau.jpg',\n   'Beauxyeux.JPG',\n   'Ragdoll%20cat.jpg',\n   'Kita%20the%20stud.jpg',\n   'Serengetimalecat.jpg',\n   'Midnight%20%28Bombay%20cat%29.jpg',\n   'Selkirk%20Rex.jpg',\n   'Shadow%20the%20Bombay%20Cat.jpg',\n   'Devon%20Rex%20Cassini.jpeg',\n   '%D0%A4%D0%BE%D1%82%D0%BE%20%D0%BA%D1%83%D0%BD%D0%BE%D0%B2.jpg',\n   'Minerva-25.jpg']},\n {'liked_images': ['BLH%20Bounty%20Amouge%20%2815640416276%29.jpg',\n   'Karin%20Maine%20Coon.jpg',\n   'Gato%20pelo%20curto%20brasileiro.JPG',\n   'Serengetimalecat.jpg',\n   'Pantanal%20Pixie-Bob%202.jpg',\n   'Manx%20cat%20by%20Karen%20Weaver.jpg',\n   'Minskin%20Kitten%20Female%20blue%20tabby%20color-pattern.jpg',\n   'Bluebell%202ans.jpg',\n   'Australian%20Mist.jpg',\n   'Turkse%20angora.jpg',\n   'Noorse-boskat%20wikipedia%201.JPG',\n   'Australian%20Mist%20%284985423018%29.jpg',\n   'Pantanal%20Pixie-Bob%202.jpg',\n   'Star%20Spangled%20Cat.jpg',\n   'Turkse%20angora.jpg',\n   'Maine%20Coon%20kittens%20NO%20Sigdalskauen.jpg',\n   'American%20Wirehair%20-%20CFF%20cat%20show%20Heinola%202008-05-04%20IMG%208721.JPG',\n   'British%20Longhair%20-%20Blue%20Bicolor.jpg',\n   'Domestic%20short-haired%20cat.jpg',\n   'Cream%20tabby%20exotic%20cat.jpg']},\n {'liked_images': ['Cymric%20-%20Norwegian%20forest%20cat%20presentation%20show%20Kotka%202009-02-01%20IMG%200687.JPG',\n   'Abessinierkater1.jpg',\n   'JapaneseBobtailBlueEyedMi-ke.JPG',\n   'Raffles%20singapura%20cat.jpg',\n   'European-cat%20show%20Helsinki%202008.JPG',\n   'Purple-scottish-fold.png',\n   'Bombay%20Katze%20Ebene%20of%20Blue%20Sinfonie.JPG',\n   'Cat%20Sphynx.%20img%20025.jpg',\n   'Siam%20lilacpoint.jpg',\n   'Dragon%20Li%20-%20Li%20Hua%20Mau1.jpg',\n   'Van%20Cat%201%202015.JPG',\n   'Jielbeaumadier%20sansha%20rex%20de%20cornouailles%20et%20yanek%20peterbald%20frankfurt%202011.jpeg',\n   'Birman%20red%20lynx%20point%2002.jpg',\n   'Van%20Cat%201%202015.JPG',\n   'Lazuli01.jpg',\n   'Seal%20Point%20Siamese%20Kitten.JPG',\n   'Gustav%20chocolate.jpg',\n   'Tiffany4.jpg',\n   'Cat%200063.JPG',\n   'Cat%20Sphynx.%20img%20025.jpg']}]"
     },
     "execution_count": 2,
     "metadata": {},
     "output_type": "execute_result"
    }
   ],
   "source": [
    "import random, os\n",
    "\n",
    "nb_users = 5\n",
    "nb_images_likes = 20\n",
    "images = os.listdir('.\\\\images')\n",
    "nb_files = len(images)\n",
    "users = []\n",
    "\n",
    "for i in range(nb_users):\n",
    "    users.append({ 'liked_images': [] })\n",
    "\n",
    "    for y in range(nb_images_likes):\n",
    "        liked_image = random.randrange(0, nb_files)\n",
    "\n",
    "        if liked_image not in users[i]:\n",
    "            users[i]['liked_images'].append(images[liked_image])\n",
    "\n",
    "users"
   ],
   "metadata": {
    "collapsed": false
   }
  },
  {
   "cell_type": "code",
   "execution_count": 6,
   "outputs": [
    {
     "ename": "ValueError",
     "evalue": "could not convert string to float: 'black'",
     "output_type": "error",
     "traceback": [
      "\u001B[1;31m---------------------------------------------------------------------------\u001B[0m",
      "\u001B[1;31mValueError\u001B[0m                                Traceback (most recent call last)",
      "\u001B[1;32m~\\AppData\\Local\\Temp\\ipykernel_5848\\550823576.py\u001B[0m in \u001B[0;36m<module>\u001B[1;34m\u001B[0m\n\u001B[0;32m     23\u001B[0m \u001B[1;33m\u001B[0m\u001B[0m\n\u001B[0;32m     24\u001B[0m \u001B[0mmetadata\u001B[0m \u001B[1;33m=\u001B[0m \u001B[0mjson\u001B[0m\u001B[1;33m.\u001B[0m\u001B[0mload\u001B[0m\u001B[1;33m(\u001B[0m\u001B[0mopen\u001B[0m\u001B[1;33m(\u001B[0m\u001B[1;34m'metadata.json'\u001B[0m\u001B[1;33m)\u001B[0m\u001B[1;33m)\u001B[0m\u001B[1;33m\u001B[0m\u001B[1;33m\u001B[0m\u001B[0m\n\u001B[1;32m---> 25\u001B[1;33m \u001B[0mget_most_liked_data\u001B[0m\u001B[1;33m(\u001B[0m\u001B[0musers\u001B[0m\u001B[1;33m[\u001B[0m\u001B[1;36m0\u001B[0m\u001B[1;33m]\u001B[0m\u001B[1;33m)\u001B[0m\u001B[1;33m\u001B[0m\u001B[1;33m\u001B[0m\u001B[0m\n\u001B[0m",
      "\u001B[1;32m~\\AppData\\Local\\Temp\\ipykernel_5848\\550823576.py\u001B[0m in \u001B[0;36mget_most_liked_data\u001B[1;34m(user)\u001B[0m\n\u001B[0;32m     13\u001B[0m \u001B[1;33m\u001B[0m\u001B[0m\n\u001B[0;32m     14\u001B[0m     \u001B[0mnumarray\u001B[0m \u001B[1;33m=\u001B[0m \u001B[0mnp\u001B[0m\u001B[1;33m.\u001B[0m\u001B[0marray\u001B[0m\u001B[1;33m(\u001B[0m\u001B[0mcolors\u001B[0m\u001B[1;33m,\u001B[0m \u001B[0mdtype\u001B[0m\u001B[1;33m=\u001B[0m\u001B[0mobject\u001B[0m\u001B[1;33m)\u001B[0m\u001B[1;33m\u001B[0m\u001B[1;33m\u001B[0m\u001B[0m\n\u001B[1;32m---> 15\u001B[1;33m     \u001B[0mclusters\u001B[0m\u001B[1;33m.\u001B[0m\u001B[0mfit\u001B[0m\u001B[1;33m(\u001B[0m\u001B[0mnumarray\u001B[0m\u001B[1;33m)\u001B[0m\u001B[1;33m\u001B[0m\u001B[1;33m\u001B[0m\u001B[0m\n\u001B[0m\u001B[0;32m     16\u001B[0m \u001B[1;33m\u001B[0m\u001B[0m\n\u001B[0;32m     17\u001B[0m     \u001B[0mnp\u001B[0m\u001B[1;33m.\u001B[0m\u001B[0marange\u001B[0m\u001B[1;33m(\u001B[0m\u001B[1;36m0\u001B[0m\u001B[1;33m,\u001B[0m \u001B[0mnb_colors\u001B[0m \u001B[1;33m+\u001B[0m \u001B[1;36m1\u001B[0m\u001B[1;33m)\u001B[0m\u001B[1;33m\u001B[0m\u001B[1;33m\u001B[0m\u001B[0m\n",
      "\u001B[1;32md:\\program files\\python\\python37\\lib\\site-packages\\sklearn\\cluster\\_kmeans.py\u001B[0m in \u001B[0;36mfit\u001B[1;34m(self, X, y, sample_weight)\u001B[0m\n\u001B[0;32m   1141\u001B[0m             \u001B[0morder\u001B[0m\u001B[1;33m=\u001B[0m\u001B[1;34m\"C\"\u001B[0m\u001B[1;33m,\u001B[0m\u001B[1;33m\u001B[0m\u001B[1;33m\u001B[0m\u001B[0m\n\u001B[0;32m   1142\u001B[0m             \u001B[0mcopy\u001B[0m\u001B[1;33m=\u001B[0m\u001B[0mself\u001B[0m\u001B[1;33m.\u001B[0m\u001B[0mcopy_x\u001B[0m\u001B[1;33m,\u001B[0m\u001B[1;33m\u001B[0m\u001B[1;33m\u001B[0m\u001B[0m\n\u001B[1;32m-> 1143\u001B[1;33m             \u001B[0maccept_large_sparse\u001B[0m\u001B[1;33m=\u001B[0m\u001B[1;32mFalse\u001B[0m\u001B[1;33m,\u001B[0m\u001B[1;33m\u001B[0m\u001B[1;33m\u001B[0m\u001B[0m\n\u001B[0m\u001B[0;32m   1144\u001B[0m         )\n\u001B[0;32m   1145\u001B[0m \u001B[1;33m\u001B[0m\u001B[0m\n",
      "\u001B[1;32md:\\program files\\python\\python37\\lib\\site-packages\\sklearn\\base.py\u001B[0m in \u001B[0;36m_validate_data\u001B[1;34m(self, X, y, reset, validate_separately, **check_params)\u001B[0m\n\u001B[0;32m    564\u001B[0m             \u001B[1;32mraise\u001B[0m \u001B[0mValueError\u001B[0m\u001B[1;33m(\u001B[0m\u001B[1;34m\"Validation should be done on X, y or both.\"\u001B[0m\u001B[1;33m)\u001B[0m\u001B[1;33m\u001B[0m\u001B[1;33m\u001B[0m\u001B[0m\n\u001B[0;32m    565\u001B[0m         \u001B[1;32melif\u001B[0m \u001B[1;32mnot\u001B[0m \u001B[0mno_val_X\u001B[0m \u001B[1;32mand\u001B[0m \u001B[0mno_val_y\u001B[0m\u001B[1;33m:\u001B[0m\u001B[1;33m\u001B[0m\u001B[1;33m\u001B[0m\u001B[0m\n\u001B[1;32m--> 566\u001B[1;33m             \u001B[0mX\u001B[0m \u001B[1;33m=\u001B[0m \u001B[0mcheck_array\u001B[0m\u001B[1;33m(\u001B[0m\u001B[0mX\u001B[0m\u001B[1;33m,\u001B[0m \u001B[1;33m**\u001B[0m\u001B[0mcheck_params\u001B[0m\u001B[1;33m)\u001B[0m\u001B[1;33m\u001B[0m\u001B[1;33m\u001B[0m\u001B[0m\n\u001B[0m\u001B[0;32m    567\u001B[0m             \u001B[0mout\u001B[0m \u001B[1;33m=\u001B[0m \u001B[0mX\u001B[0m\u001B[1;33m\u001B[0m\u001B[1;33m\u001B[0m\u001B[0m\n\u001B[0;32m    568\u001B[0m         \u001B[1;32melif\u001B[0m \u001B[0mno_val_X\u001B[0m \u001B[1;32mand\u001B[0m \u001B[1;32mnot\u001B[0m \u001B[0mno_val_y\u001B[0m\u001B[1;33m:\u001B[0m\u001B[1;33m\u001B[0m\u001B[1;33m\u001B[0m\u001B[0m\n",
      "\u001B[1;32md:\\program files\\python\\python37\\lib\\site-packages\\sklearn\\utils\\validation.py\u001B[0m in \u001B[0;36mcheck_array\u001B[1;34m(array, accept_sparse, accept_large_sparse, dtype, order, copy, force_all_finite, ensure_2d, allow_nd, ensure_min_samples, ensure_min_features, estimator)\u001B[0m\n\u001B[0;32m    744\u001B[0m                     \u001B[0marray\u001B[0m \u001B[1;33m=\u001B[0m \u001B[0marray\u001B[0m\u001B[1;33m.\u001B[0m\u001B[0mastype\u001B[0m\u001B[1;33m(\u001B[0m\u001B[0mdtype\u001B[0m\u001B[1;33m,\u001B[0m \u001B[0mcasting\u001B[0m\u001B[1;33m=\u001B[0m\u001B[1;34m\"unsafe\"\u001B[0m\u001B[1;33m,\u001B[0m \u001B[0mcopy\u001B[0m\u001B[1;33m=\u001B[0m\u001B[1;32mFalse\u001B[0m\u001B[1;33m)\u001B[0m\u001B[1;33m\u001B[0m\u001B[1;33m\u001B[0m\u001B[0m\n\u001B[0;32m    745\u001B[0m                 \u001B[1;32melse\u001B[0m\u001B[1;33m:\u001B[0m\u001B[1;33m\u001B[0m\u001B[1;33m\u001B[0m\u001B[0m\n\u001B[1;32m--> 746\u001B[1;33m                     \u001B[0marray\u001B[0m \u001B[1;33m=\u001B[0m \u001B[0mnp\u001B[0m\u001B[1;33m.\u001B[0m\u001B[0masarray\u001B[0m\u001B[1;33m(\u001B[0m\u001B[0marray\u001B[0m\u001B[1;33m,\u001B[0m \u001B[0morder\u001B[0m\u001B[1;33m=\u001B[0m\u001B[0morder\u001B[0m\u001B[1;33m,\u001B[0m \u001B[0mdtype\u001B[0m\u001B[1;33m=\u001B[0m\u001B[0mdtype\u001B[0m\u001B[1;33m)\u001B[0m\u001B[1;33m\u001B[0m\u001B[1;33m\u001B[0m\u001B[0m\n\u001B[0m\u001B[0;32m    747\u001B[0m             \u001B[1;32mexcept\u001B[0m \u001B[0mComplexWarning\u001B[0m \u001B[1;32mas\u001B[0m \u001B[0mcomplex_warning\u001B[0m\u001B[1;33m:\u001B[0m\u001B[1;33m\u001B[0m\u001B[1;33m\u001B[0m\u001B[0m\n\u001B[0;32m    748\u001B[0m                 raise ValueError(\n",
      "\u001B[1;31mValueError\u001B[0m: could not convert string to float: 'black'"
     ]
    }
   ],
   "source": [
    "import json\n",
    "import numpy as np\n",
    "from sklearn.cluster import KMeans\n",
    "\n",
    "def get_most_liked_data(user):\n",
    "    most_seen_colors = []\n",
    "    colors = []\n",
    "    for liked_image in user['liked_images']:\n",
    "        colors.append(metadata[liked_image]['Color1'])\n",
    "\n",
    "    nb_colors = 2\n",
    "    clusters = KMeans(n_clusters=nb_colors, n_init=2)\n",
    "\n",
    "    numarray = np.array(colors, dtype=object)\n",
    "    clusters.fit(numarray)\n",
    "\n",
    "    np.arange(0, nb_colors + 1)\n",
    "\n",
    "    for i in range(nb_colors):\n",
    "        most_seen_colors.append(clusters.cluster_centers_[i])\n",
    "\n",
    "    return colors\n",
    "\n",
    "metadata = json.load(open('metadata.json'))\n",
    "get_most_liked_data(users[0])"
   ],
   "metadata": {
    "collapsed": false
   }
  },
  {
   "cell_type": "code",
   "execution_count": null,
   "outputs": [],
   "source": [],
   "metadata": {
    "collapsed": false
   }
  }
 ],
 "metadata": {
  "kernelspec": {
   "display_name": "Python 3",
   "language": "python",
   "name": "python3"
  },
  "language_info": {
   "codemirror_mode": {
    "name": "ipython",
    "version": 2
   },
   "file_extension": ".py",
   "mimetype": "text/x-python",
   "name": "python",
   "nbconvert_exporter": "python",
   "pygments_lexer": "ipython2",
   "version": "2.7.6"
  }
 },
 "nbformat": 4,
 "nbformat_minor": 0
}
